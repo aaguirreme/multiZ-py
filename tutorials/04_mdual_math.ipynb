{
 "cells": [
  {
   "cell_type": "markdown",
   "metadata": {},
   "source": [
    "# How to use multiZ"
   ]
  },
  {
   "cell_type": "code",
   "execution_count": 1,
   "metadata": {},
   "outputs": [],
   "source": [
    "%reset -f"
   ]
  },
  {
   "cell_type": "code",
   "execution_count": 2,
   "metadata": {},
   "outputs": [],
   "source": [
    "import sys\n",
    "sys.path.append('../')"
   ]
  },
  {
   "cell_type": "code",
   "execution_count": 3,
   "metadata": {},
   "outputs": [],
   "source": [
    "from multiZ.mdual import *"
   ]
  },
  {
   "cell_type": "markdown",
   "metadata": {},
   "source": [
    "## 5. Multidual arithmetics"
   ]
  },
  {
   "cell_type": "markdown",
   "metadata": {},
   "source": [
    "### 5.1. Addition and subtraction"
   ]
  },
  {
   "cell_type": "code",
   "execution_count": 4,
   "metadata": {},
   "outputs": [],
   "source": [
    "a = mdual([1,2,3])    # You can add and subtract two multidual\n",
    "b = mdual([4,5,6])    # numbers of the same order. "
   ]
  },
  {
   "cell_type": "code",
   "execution_count": 5,
   "metadata": {},
   "outputs": [
    {
     "name": "stdout",
     "output_type": "stream",
     "text": [
      "a + b = 5 + 7*eps(1) + 9*eps(2) + 0*eps([1, 2]) \n",
      "\n",
      "a - b = -3 - 3*eps(1) - 3*eps(2) + 0*eps([1, 2]) \n",
      "\n"
     ]
    }
   ],
   "source": [
    "print(\"a + b =\", a + b, \"\\n\")\n",
    "print(\"a - b =\", a - b, \"\\n\")"
   ]
  },
  {
   "cell_type": "code",
   "execution_count": 6,
   "metadata": {},
   "outputs": [],
   "source": [
    "a = mdual([1,2,3])    # You can also add and subtract two multidual\n",
    "b = mdual([4,5])      # numbers of different orders."
   ]
  },
  {
   "cell_type": "code",
   "execution_count": 7,
   "metadata": {},
   "outputs": [
    {
     "name": "stdout",
     "output_type": "stream",
     "text": [
      "a + b = 5 + 7*eps(1) + 3*eps(2) + 0*eps([1, 2]) \n",
      "\n",
      "a - b = -3 - 3*eps(1) + 3*eps(2) + 0*eps([1, 2]) \n",
      "\n",
      "b + a = 5 + 7*eps(1) + 3*eps(2) + 0*eps([1, 2]) \n",
      "\n",
      "b - a = 3 + 3*eps(1) - 3*eps(2) - 0*eps([1, 2]) \n",
      "\n"
     ]
    }
   ],
   "source": [
    "print(\"a + b =\", a + b, \"\\n\")   # The result will have the same order as the\n",
    "print(\"a - b =\", a - b, \"\\n\")   # highest order term.\n",
    "print(\"b + a =\", b + a, \"\\n\")\n",
    "print(\"b - a =\", b - a, \"\\n\")"
   ]
  },
  {
   "cell_type": "code",
   "execution_count": 8,
   "metadata": {
    "scrolled": true
   },
   "outputs": [
    {
     "name": "stdout",
     "output_type": "stream",
     "text": [
      "a + 10.5  = 11.5 + 2*eps(1) + 3*eps(2) + 0*eps([1, 2]) \n",
      "\n",
      "a - 10.5  = -9.5 + 2*eps(1) + 3*eps(2) + 0*eps([1, 2]) \n",
      "\n",
      "-13.5 + a = -12.5 + 2*eps(1) + 3*eps(2) + 0*eps([1, 2]) \n",
      "\n",
      "-13.5 - a = -14.5 - 2*eps(1) - 3*eps(2) - 0*eps([1, 2]) \n",
      "\n"
     ]
    }
   ],
   "source": [
    "print(\"a + 10.5  =\",  a + 10.5, \"\\n\")   # You can also add\n",
    "print(\"a - 10.5  =\",  a - 10.5, \"\\n\")   # or subtract a real\n",
    "print(\"-13.5 + a =\", -13.5 + a, \"\\n\")   # number to a mdu.\n",
    "print(\"-13.5 - a =\", -13.5 - a, \"\\n\")"
   ]
  },
  {
   "cell_type": "markdown",
   "metadata": {
    "collapsed": true
   },
   "source": [
    "### 5.2. Multiplication"
   ]
  },
  {
   "cell_type": "code",
   "execution_count": 9,
   "metadata": {
    "scrolled": true
   },
   "outputs": [
    {
     "name": "stdout",
     "output_type": "stream",
     "text": [
      "5 + 16*eps(1) + 22*eps(2) + 60*eps([1, 2])\n"
     ]
    }
   ],
   "source": [
    "x = mdual([1,2,3,4])   # You can multiply two multidual\n",
    "y = mdual([5,6,7,8])   # numbers of the same order.\n",
    "print(x*y)"
   ]
  },
  {
   "cell_type": "code",
   "execution_count": 10,
   "metadata": {},
   "outputs": [
    {
     "name": "stdout",
     "output_type": "stream",
     "text": [
      "9 + 28*eps(1) + 38*eps(2) + 100*eps([1, 2]) + 58*eps(3) + 144*eps([1, 3]) + 172*eps([2, 3]) + 408*eps([1, 2, 3])\n"
     ]
    }
   ],
   "source": [
    "x = mdual(list(range(1, 9))) \n",
    "y = mdual(list(range(9,17)))\n",
    "print(x*y)"
   ]
  },
  {
   "cell_type": "code",
   "execution_count": 11,
   "metadata": {},
   "outputs": [
    {
     "name": "stdout",
     "output_type": "stream",
     "text": [
      "5 + 16*eps(1) + 15*eps(2) + 38*eps([1, 2])\n",
      "5 + 16*eps(1) + 15*eps(2) + 38*eps([1, 2])\n"
     ]
    }
   ],
   "source": [
    "x = mdual([1,2,3,4])   # Or even of different orders.\n",
    "y = mdual([5,6])       # No problem.\n",
    "print(x*y)\n",
    "print(y*x)"
   ]
  },
  {
   "cell_type": "code",
   "execution_count": 12,
   "metadata": {},
   "outputs": [
    {
     "name": "stdout",
     "output_type": "stream",
     "text": [
      "4.5 + 9*eps(1) + 13.5*eps(2) + 18*eps([1, 2])\n",
      "2.3 + 4.6*eps(1) + 6.9*eps(2) + 9.2*eps([1, 2])\n"
     ]
    }
   ],
   "source": [
    "print(4.5*x)    # You can make scalar \n",
    "print(x*2.3)    # product too."
   ]
  },
  {
   "cell_type": "markdown",
   "metadata": {},
   "source": [
    "### 5.3. Division"
   ]
  },
  {
   "cell_type": "code",
   "execution_count": 13,
   "metadata": {
    "scrolled": true
   },
   "outputs": [
    {
     "name": "stdout",
     "output_type": "stream",
     "text": [
      "x =\n",
      " 1 + 2*eps(1) + 3*eps(2) + 4*eps([1, 2]) + 5*eps(3) + 6*eps([1, 3]) + 7*eps([2, 3]) + 8*eps([1, 2, 3]) \n",
      "\n",
      "x^(-1) =\n",
      " 1 - 2*eps(1) - 3*eps(2) + 8*eps([1, 2]) - 5*eps(3) + 14*eps([1, 3]) + 23*eps([2, 3]) - 84*eps([1, 2, 3]) \n",
      "\n",
      "x*x^(-1) =\n",
      " 1 + 0*eps(1) + 0*eps(2) + 0*eps([1, 2]) + 0*eps(3) + 0*eps([1, 3]) + 0*eps([2, 3]) + 0*eps([1, 2, 3]) \n",
      "\n"
     ]
    }
   ],
   "source": [
    "x = mdual(list(range(1, 9)))\n",
    "\n",
    "xinv = 1/x  # <-------------------- Reciprocal of a mdu number. \n",
    "\n",
    "print('x =\\n',             x, '\\n')\n",
    "print('x^(-1) =\\n',     xinv, '\\n')\n",
    "print('x*x^(-1) =\\n', x*xinv, '\\n')"
   ]
  },
  {
   "cell_type": "code",
   "execution_count": 14,
   "metadata": {},
   "outputs": [
    {
     "name": "stdout",
     "output_type": "stream",
     "text": [
      "y =\n",
      " 9 + 10*eps(1) + 11*eps(2) + 12*eps([1, 2]) + 13*eps(3) + 14*eps([1, 3]) + 15*eps([2, 3]) + 16*eps([1, 2, 3]) \n",
      "\n",
      "z = y/x =\n",
      " 9 - 8*eps(1) - 16*eps(2) + 32*eps([1, 2]) - 32*eps(3) + 64*eps([1, 3]) + 128*eps([2, 3]) - 384*eps([1, 2, 3]) \n",
      "\n",
      "z*x =\n",
      " 9 + 10*eps(1) + 11*eps(2) + 12*eps([1, 2]) + 13*eps(3) + 14*eps([1, 3]) + 15*eps([2, 3]) + 16*eps([1, 2, 3]) \n",
      "\n"
     ]
    }
   ],
   "source": [
    "y = mdual(list(range(9, 17)))\n",
    "\n",
    "z = y/x   # <--------------------- Division of two mdu numbers of the same size. \n",
    "\n",
    "print('y =\\n',         y, '\\n')\n",
    "print('z = y/x =\\n',   z, '\\n')\n",
    "print('z*x =\\n',     z*x, '\\n')"
   ]
  },
  {
   "cell_type": "code",
   "execution_count": 15,
   "metadata": {},
   "outputs": [
    {
     "data": {
      "text/plain": [
       "array([   9.,   -8.,  -16.,   32.,  -32.,   64.,  128., -384.])"
      ]
     },
     "execution_count": 15,
     "metadata": {},
     "output_type": "execute_result"
    }
   ],
   "source": [
    "z.coeffs"
   ]
  },
  {
   "cell_type": "code",
   "execution_count": 16,
   "metadata": {},
   "outputs": [
    {
     "name": "stdout",
     "output_type": "stream",
     "text": [
      "a =       1 + 2*eps(1) + 3*eps(2) + 4*eps([1, 2])\n",
      "b =       5 + 6*eps(1) \n",
      "\n",
      "c = a/b = 0.2 + 0.16*eps(1) + 0.6*eps(2) + 0.08*eps([1, 2]) \n",
      "\n",
      "c*b =     1 + 2*eps(1) + 3*eps(2) + 4*eps([1, 2]) \n",
      "\n",
      "d = b/a = 5 - 4*eps(1) - 15*eps(2) + 22*eps([1, 2]) \n",
      "\n",
      "d*a =     5 + 6*eps(1) + 0*eps(2) + 0*eps([1, 2]) \n",
      "\n"
     ]
    }
   ],
   "source": [
    "a = mdual([1,2,3,4])\n",
    "b = mdual([5,6])\n",
    "c = a/b                         # Again, you can divide two multidual\n",
    "d = b/a                         # numbers of different orders.\n",
    "\n",
    "print('a =      ',   a)\n",
    "print('b =      ',   b, '\\n')\n",
    "print('c = a/b =',   c, '\\n')\n",
    "print('c*b =    ', c*b, '\\n')\n",
    "print('d = b/a =',   d, '\\n')\n",
    "print('d*a =    ', d*a, '\\n')"
   ]
  },
  {
   "cell_type": "code",
   "execution_count": 17,
   "metadata": {},
   "outputs": [
    {
     "data": {
      "text/plain": [
       "array([  5.,  -4., -15.,  22.])"
      ]
     },
     "execution_count": 17,
     "metadata": {},
     "output_type": "execute_result"
    }
   ],
   "source": [
    "d.coeffs"
   ]
  },
  {
   "cell_type": "code",
   "execution_count": 18,
   "metadata": {
    "scrolled": true
   },
   "outputs": [
    {
     "data": {
      "text/plain": [
       "mdual([0.25,0.5 ,0.75,1.  ])"
      ]
     },
     "execution_count": 18,
     "metadata": {},
     "output_type": "execute_result"
    }
   ],
   "source": [
    "a/4     # And divide by scalar too."
   ]
  },
  {
   "cell_type": "markdown",
   "metadata": {},
   "source": [
    "## 6. Trascendental functions for multidual"
   ]
  },
  {
   "cell_type": "markdown",
   "metadata": {},
   "source": [
    "The transcendental functions included in this library are intended to compute derivatives of real valued variables. This is accomplished using a Taylor series expansion approach, which in the case of multidual numbers is only valid for very small imaginary coefficients."
   ]
  },
  {
   "cell_type": "code",
   "execution_count": 19,
   "metadata": {},
   "outputs": [],
   "source": [
    "h = 1"
   ]
  },
  {
   "cell_type": "code",
   "execution_count": 20,
   "metadata": {},
   "outputs": [],
   "source": [
    "a = 2. + h*eps(1) + h*eps(2)"
   ]
  },
  {
   "cell_type": "markdown",
   "metadata": {},
   "source": [
    "### 6.1. Power "
   ]
  },
  {
   "cell_type": "code",
   "execution_count": 21,
   "metadata": {},
   "outputs": [
    {
     "data": {
      "text/plain": [
       "mdual([4.,4.,4.,2.])"
      ]
     },
     "execution_count": 21,
     "metadata": {},
     "output_type": "execute_result"
    }
   ],
   "source": [
    "a**2"
   ]
  },
  {
   "cell_type": "code",
   "execution_count": 22,
   "metadata": {},
   "outputs": [
    {
     "data": {
      "text/plain": [
       "mdual([ 8.,12.,12.,12.])"
      ]
     },
     "execution_count": 22,
     "metadata": {},
     "output_type": "execute_result"
    }
   ],
   "source": [
    "a**3"
   ]
  },
  {
   "cell_type": "markdown",
   "metadata": {},
   "source": [
    "### 6.2. Square root"
   ]
  },
  {
   "cell_type": "code",
   "execution_count": 23,
   "metadata": {},
   "outputs": [
    {
     "data": {
      "text/plain": [
       "mdual([2.,1.,1.,0.])"
      ]
     },
     "execution_count": 23,
     "metadata": {},
     "output_type": "execute_result"
    }
   ],
   "source": [
    "sqrt(a**2)"
   ]
  },
  {
   "cell_type": "markdown",
   "metadata": {},
   "source": [
    "### 6.3 Exponential and logarithm"
   ]
  },
  {
   "cell_type": "code",
   "execution_count": 24,
   "metadata": {},
   "outputs": [
    {
     "data": {
      "text/plain": [
       "mdual([7.3890561,7.3890561,7.3890561,7.3890561])"
      ]
     },
     "execution_count": 24,
     "metadata": {},
     "output_type": "execute_result"
    }
   ],
   "source": [
    "exp(a)"
   ]
  },
  {
   "cell_type": "code",
   "execution_count": 25,
   "metadata": {},
   "outputs": [
    {
     "data": {
      "text/plain": [
       "mdual([ 0.69314718, 0.5       , 0.5       ,-0.25      ])"
      ]
     },
     "execution_count": 25,
     "metadata": {},
     "output_type": "execute_result"
    }
   ],
   "source": [
    "log(a)"
   ]
  },
  {
   "cell_type": "markdown",
   "metadata": {},
   "source": [
    "### 6.4 Sine and cosine"
   ]
  },
  {
   "cell_type": "code",
   "execution_count": 26,
   "metadata": {},
   "outputs": [
    {
     "data": {
      "text/plain": [
       "mdual([ 0.90929743,-0.41614684,-0.41614684,-0.90929743])"
      ]
     },
     "execution_count": 26,
     "metadata": {},
     "output_type": "execute_result"
    }
   ],
   "source": [
    "sin(a)"
   ]
  },
  {
   "cell_type": "code",
   "execution_count": 27,
   "metadata": {},
   "outputs": [
    {
     "data": {
      "text/plain": [
       "mdual([-0.41614684,-0.90929743,-0.90929743, 0.41614684])"
      ]
     },
     "execution_count": 27,
     "metadata": {},
     "output_type": "execute_result"
    }
   ],
   "source": [
    "cos(a)"
   ]
  },
  {
   "cell_type": "markdown",
   "metadata": {},
   "source": [
    "### 6.5 Conjugation with respect to an imaginary direction"
   ]
  },
  {
   "cell_type": "code",
   "execution_count": 28,
   "metadata": {},
   "outputs": [
    {
     "name": "stdout",
     "output_type": "stream",
     "text": [
      "2 + 1*eps(1) + 1*eps(2) + 0*eps([1, 2])\n"
     ]
    }
   ],
   "source": [
    "print(a)"
   ]
  },
  {
   "cell_type": "code",
   "execution_count": 29,
   "metadata": {},
   "outputs": [
    {
     "name": "stdout",
     "output_type": "stream",
     "text": [
      "2 - 1*eps(1) + 1*eps(2) - 0*eps([1, 2])\n"
     ]
    }
   ],
   "source": [
    "print(a.conjugate(1))"
   ]
  },
  {
   "cell_type": "code",
   "execution_count": 30,
   "metadata": {},
   "outputs": [
    {
     "name": "stdout",
     "output_type": "stream",
     "text": [
      "2 + 1*eps(1) - 1*eps(2) - 0*eps([1, 2])\n"
     ]
    }
   ],
   "source": [
    "print(a.conjugate(2))"
   ]
  }
 ],
 "metadata": {
  "kernelspec": {
   "display_name": "Python 3",
   "language": "python",
   "name": "python3"
  },
  "language_info": {
   "codemirror_mode": {
    "name": "ipython",
    "version": 3
   },
   "file_extension": ".py",
   "mimetype": "text/x-python",
   "name": "python",
   "nbconvert_exporter": "python",
   "pygments_lexer": "ipython3",
   "version": "3.7.7"
  }
 },
 "nbformat": 4,
 "nbformat_minor": 1
}
