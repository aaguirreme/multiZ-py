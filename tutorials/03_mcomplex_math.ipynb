{
 "cells": [
  {
   "cell_type": "markdown",
   "metadata": {},
   "source": [
    "# How to use multiZ"
   ]
  },
  {
   "cell_type": "code",
   "execution_count": 1,
   "metadata": {},
   "outputs": [],
   "source": [
    "%reset -f"
   ]
  },
  {
   "cell_type": "code",
   "execution_count": 2,
   "metadata": {},
   "outputs": [],
   "source": [
    "import sys\n",
    "sys.path.append('../')"
   ]
  },
  {
   "cell_type": "code",
   "execution_count": 3,
   "metadata": {},
   "outputs": [],
   "source": [
    "from multiZ.mcomplex import *"
   ]
  },
  {
   "cell_type": "markdown",
   "metadata": {},
   "source": [
    "## 3. Multicomplex arithmetics"
   ]
  },
  {
   "cell_type": "markdown",
   "metadata": {},
   "source": [
    "### 3.1. Addition and subtraction"
   ]
  },
  {
   "cell_type": "code",
   "execution_count": 4,
   "metadata": {},
   "outputs": [],
   "source": [
    "a = mcomplex([1,2,3])    # You can add and subtract two multicomplex\n",
    "b = mcomplex([4,5,6])    # numbers of the same order. "
   ]
  },
  {
   "cell_type": "code",
   "execution_count": 5,
   "metadata": {},
   "outputs": [
    {
     "name": "stdout",
     "output_type": "stream",
     "text": [
      "a + b = 5 + 7*im(1) + 9*im(2) + 0*im([1, 2]) \n",
      "\n",
      "a - b = -3 - 3*im(1) - 3*im(2) + 0*im([1, 2]) \n",
      "\n"
     ]
    }
   ],
   "source": [
    "print(\"a + b =\", a + b, \"\\n\")\n",
    "print(\"a - b =\", a - b, \"\\n\")"
   ]
  },
  {
   "cell_type": "code",
   "execution_count": 6,
   "metadata": {},
   "outputs": [],
   "source": [
    "a = mcomplex([1,2,3])    # You can also add and subtract two multicomplex\n",
    "b = mcomplex([4,5])      # of different orders."
   ]
  },
  {
   "cell_type": "code",
   "execution_count": 7,
   "metadata": {},
   "outputs": [
    {
     "name": "stdout",
     "output_type": "stream",
     "text": [
      "a + b = 5 + 7*im(1) + 3*im(2) + 0*im([1, 2]) \n",
      "\n",
      "a - b = -3 - 3*im(1) + 3*im(2) + 0*im([1, 2]) \n",
      "\n",
      "b + a = 5 + 7*im(1) + 3*im(2) + 0*im([1, 2]) \n",
      "\n",
      "b - a = 3 + 3*im(1) - 3*im(2) - 0*im([1, 2]) \n",
      "\n"
     ]
    }
   ],
   "source": [
    "print(\"a + b =\", a + b, \"\\n\")   # The result will have the same order as the\n",
    "print(\"a - b =\", a - b, \"\\n\")   # highest order term.\n",
    "print(\"b + a =\", b + a, \"\\n\")\n",
    "print(\"b - a =\", b - a, \"\\n\")"
   ]
  },
  {
   "cell_type": "code",
   "execution_count": 8,
   "metadata": {
    "scrolled": true
   },
   "outputs": [
    {
     "name": "stdout",
     "output_type": "stream",
     "text": [
      "a + 10.5  = 11.5 + 2*im(1) + 3*im(2) + 0*im([1, 2]) \n",
      "\n",
      "a - 10.5  = -9.5 + 2*im(1) + 3*im(2) + 0*im([1, 2]) \n",
      "\n",
      "-13.5 + a = -12.5 + 2*im(1) + 3*im(2) + 0*im([1, 2]) \n",
      "\n",
      "-13.5 - a = -14.5 - 2*im(1) - 3*im(2) - 0*im([1, 2]) \n",
      "\n"
     ]
    }
   ],
   "source": [
    "print(\"a + 10.5  =\",  a + 10.5, \"\\n\")   # You can also add\n",
    "print(\"a - 10.5  =\",  a - 10.5, \"\\n\")   # or subtract a real\n",
    "print(\"-13.5 + a =\", -13.5 + a, \"\\n\")   # number to a mcx.\n",
    "print(\"-13.5 - a =\", -13.5 - a, \"\\n\")"
   ]
  },
  {
   "cell_type": "markdown",
   "metadata": {
    "collapsed": true
   },
   "source": [
    "### 3.2. Multiplication"
   ]
  },
  {
   "cell_type": "code",
   "execution_count": 9,
   "metadata": {},
   "outputs": [
    {
     "name": "stdout",
     "output_type": "stream",
     "text": [
      "4 - 36*im(1) - 18*im(2) + 60*im([1, 2])\n"
     ]
    }
   ],
   "source": [
    "x = mcomplex([1,2,3,4])   # You can multiply two multicomplex\n",
    "y = mcomplex([5,6,7,8])   # numbers of the same order.\n",
    "print(x*y)"
   ]
  },
  {
   "cell_type": "code",
   "execution_count": 10,
   "metadata": {},
   "outputs": [
    {
     "name": "stdout",
     "output_type": "stream",
     "text": [
      "0 + 32*im(1) + 16*im(2) - 272*im([1, 2]) + 8*im(3) - 136*im([1, 3]) - 68*im([2, 3]) + 408*im([1, 2, 3])\n"
     ]
    }
   ],
   "source": [
    "x = mcomplex(list(range(1, 9))) \n",
    "y = mcomplex(list(range(9,17)))\n",
    "print(x*y)"
   ]
  },
  {
   "cell_type": "code",
   "execution_count": 11,
   "metadata": {},
   "outputs": [
    {
     "name": "stdout",
     "output_type": "stream",
     "text": [
      "-7 + 16*im(1) - 9*im(2) + 38*im([1, 2])\n",
      "-7 + 16*im(1) - 9*im(2) + 38*im([1, 2])\n"
     ]
    }
   ],
   "source": [
    "x = mcomplex([1,2,3,4])   # Or even of different orders.\n",
    "y = mcomplex([5,6])       # No problem.\n",
    "print(x*y)\n",
    "print(y*x)"
   ]
  },
  {
   "cell_type": "code",
   "execution_count": 12,
   "metadata": {},
   "outputs": [
    {
     "name": "stdout",
     "output_type": "stream",
     "text": [
      "4.5 + 9*im(1) + 13.5*im(2) + 18*im([1, 2])\n",
      "2.3 + 4.6*im(1) + 6.9*im(2) + 9.2*im([1, 2])\n"
     ]
    }
   ],
   "source": [
    "print(4.5*x)    # You can make scalar \n",
    "print(x*2.3)    # product too."
   ]
  },
  {
   "cell_type": "markdown",
   "metadata": {},
   "source": [
    "### 3.3. Division"
   ]
  },
  {
   "cell_type": "code",
   "execution_count": 13,
   "metadata": {
    "scrolled": true
   },
   "outputs": [
    {
     "name": "stdout",
     "output_type": "stream",
     "text": [
      "x =\n",
      " 1 + 2*im(1) + 3*im(2) + 4*im([1, 2]) + 5*im(3) + 6*im([1, 3]) + 7*im([2, 3]) + 8*im([1, 2, 3]) \n",
      "\n",
      "x^(-1) =\n",
      " 0.0129096 - 0.0142754*im(1) - 0.013961*im(2) + 0.013191*im([1, 2]) - 0.0229041*im(3) + 0.0270122*im([1, 3]) + 0.0342449*im([2, 3]) - 0.0434481*im([1, 2, 3]) \n",
      "\n",
      "x*x^(-1) =\n",
      " 1 - 5.55112e-17*im(1) + 0*im(2) + 0*im([1, 2]) - 2.77556e-17*im(3) + 0*im([1, 3]) + 2.77556e-17*im([2, 3]) + 6.93889e-18*im([1, 2, 3]) \n",
      "\n"
     ]
    }
   ],
   "source": [
    "x = mcomplex(list(range(1, 9)))\n",
    "\n",
    "xinv = 1/x  # <-------------------- Reciprocal of a mcx number. \n",
    "\n",
    "print('x =\\n',             x, '\\n')\n",
    "print('x^(-1) =\\n',     xinv, '\\n')\n",
    "print('x*x^(-1) =\\n', x*xinv, '\\n')"
   ]
  },
  {
   "cell_type": "code",
   "execution_count": 14,
   "metadata": {},
   "outputs": [
    {
     "name": "stdout",
     "output_type": "stream",
     "text": [
      "y =\n",
      " 9 + 10*im(1) + 11*im(2) + 12*im([1, 2]) + 13*im(3) + 14*im([1, 3]) + 15*im([2, 3]) + 16*im([1, 2, 3]) \n",
      "\n",
      "z = y/x =\n",
      " 2.45557 - 0.111258*im(1) - 0.22195*im(2) + 0.0236752*im([1, 2]) - 0.586178*im(3) + 0.101724*im([1, 3]) + 0.222479*im([2, 3]) - 0.0578475*im([1, 2, 3]) \n",
      "\n",
      "z*x =\n",
      " 9 + 10*im(1) + 11*im(2) + 12*im([1, 2]) + 13*im(3) + 14*im([1, 3]) + 15*im([2, 3]) + 16*im([1, 2, 3]) \n",
      "\n"
     ]
    }
   ],
   "source": [
    "y = mcomplex(list(range(9, 17)))\n",
    "\n",
    "z = y/x   # <--------------------- Division of two mcx numbers of the same size. \n",
    "\n",
    "print('y =\\n',         y, '\\n')\n",
    "print('z = y/x =\\n',   z, '\\n')\n",
    "print('z*x =\\n',     z*x, '\\n')"
   ]
  },
  {
   "cell_type": "code",
   "execution_count": 15,
   "metadata": {},
   "outputs": [
    {
     "name": "stdout",
     "output_type": "stream",
     "text": [
      "a =       1 + 2*im(1) + 3*im(2) + 4*im([1, 2])\n",
      "b =       5 + 6*im(1) \n",
      "\n",
      "c = a/b = 0.278689 + 0.0655738*im(1) + 0.639344*im(2) + 0.0327869*im([1, 2]) \n",
      "\n",
      "c*b =     1 + 2*im(1) + 3*im(2) + 4*im([1, 2]) \n",
      "\n",
      "d = b/a = 0.585973 + 0.040724*im(1) - 1.30543*im(2) + 0.144796*im([1, 2]) \n",
      "\n",
      "d*a =     5 + 6*im(1) - 1.38778e-16*im(2) + 0*im([1, 2]) \n",
      "\n"
     ]
    }
   ],
   "source": [
    "a = mcomplex([1,2,3,4])\n",
    "b = mcomplex([5,6])\n",
    "c = a/b                         # Again, you can divide two multicomplex\n",
    "d = b/a                         # numbers of different orders.\n",
    "\n",
    "print('a =      ',   a)\n",
    "print('b =      ',   b, '\\n')\n",
    "print('c = a/b =',   c, '\\n')\n",
    "print('c*b =    ', c*b, '\\n')\n",
    "print('d = b/a =',   d, '\\n')\n",
    "print('d*a =    ', d*a, '\\n')"
   ]
  },
  {
   "cell_type": "code",
   "execution_count": 16,
   "metadata": {
    "scrolled": true
   },
   "outputs": [
    {
     "data": {
      "text/plain": [
       "mcomplex([0.25,0.5 ,0.75,1.  ])"
      ]
     },
     "execution_count": 16,
     "metadata": {},
     "output_type": "execute_result"
    }
   ],
   "source": [
    "a/4     # And divide by scalar too."
   ]
  },
  {
   "cell_type": "markdown",
   "metadata": {},
   "source": [
    "## 4. Trascendental functions for multicomplex"
   ]
  },
  {
   "cell_type": "markdown",
   "metadata": {},
   "source": [
    "The transcendental functions included in this library are intended to compute derivatives of real valued variables. This is accomplished using a Taylor series expansion approach, which in the case of multicomplex numbers is only valid for very small imaginary coefficients."
   ]
  },
  {
   "cell_type": "code",
   "execution_count": 17,
   "metadata": {},
   "outputs": [],
   "source": [
    "h = 1e-30"
   ]
  },
  {
   "cell_type": "code",
   "execution_count": 18,
   "metadata": {},
   "outputs": [],
   "source": [
    "a = 2. + h*im(1) + h*im(2)"
   ]
  },
  {
   "cell_type": "markdown",
   "metadata": {},
   "source": [
    "### 4.1. Power "
   ]
  },
  {
   "cell_type": "code",
   "execution_count": 19,
   "metadata": {},
   "outputs": [
    {
     "data": {
      "text/plain": [
       "mcomplex([4.e+00,4.e-30,4.e-30,2.e-60])"
      ]
     },
     "execution_count": 19,
     "metadata": {},
     "output_type": "execute_result"
    }
   ],
   "source": [
    "a**2"
   ]
  },
  {
   "cell_type": "code",
   "execution_count": 20,
   "metadata": {},
   "outputs": [
    {
     "data": {
      "text/plain": [
       "mcomplex([8.0e+00,1.2e-29,1.2e-29,1.2e-59])"
      ]
     },
     "execution_count": 20,
     "metadata": {},
     "output_type": "execute_result"
    }
   ],
   "source": [
    "a**3"
   ]
  },
  {
   "cell_type": "markdown",
   "metadata": {},
   "source": [
    "### 4.2. Square root"
   ]
  },
  {
   "cell_type": "code",
   "execution_count": 21,
   "metadata": {},
   "outputs": [
    {
     "data": {
      "text/plain": [
       "mcomplex([2.e+00,1.e-30,1.e-30,0.e+00])"
      ]
     },
     "execution_count": 21,
     "metadata": {},
     "output_type": "execute_result"
    }
   ],
   "source": [
    "sqrt(a**2)"
   ]
  },
  {
   "cell_type": "markdown",
   "metadata": {},
   "source": [
    "### 4.3 Exponential and logarithm"
   ]
  },
  {
   "cell_type": "code",
   "execution_count": 22,
   "metadata": {},
   "outputs": [
    {
     "data": {
      "text/plain": [
       "mcomplex([7.3890561e+00,7.3890561e-30,7.3890561e-30,7.3890561e-60])"
      ]
     },
     "execution_count": 22,
     "metadata": {},
     "output_type": "execute_result"
    }
   ],
   "source": [
    "exp(a)"
   ]
  },
  {
   "cell_type": "code",
   "execution_count": 23,
   "metadata": {},
   "outputs": [
    {
     "data": {
      "text/plain": [
       "mcomplex([ 6.93147181e-01, 5.00000000e-31, 5.00000000e-31,-2.50000000e-61])"
      ]
     },
     "execution_count": 23,
     "metadata": {},
     "output_type": "execute_result"
    }
   ],
   "source": [
    "log(a)"
   ]
  },
  {
   "cell_type": "markdown",
   "metadata": {},
   "source": [
    "### 4.4 Sine and cosine"
   ]
  },
  {
   "cell_type": "code",
   "execution_count": 24,
   "metadata": {},
   "outputs": [
    {
     "data": {
      "text/plain": [
       "mcomplex([ 9.09297427e-01,-4.16146837e-31,-4.16146837e-31,-9.09297427e-61])"
      ]
     },
     "execution_count": 24,
     "metadata": {},
     "output_type": "execute_result"
    }
   ],
   "source": [
    "sin(a)"
   ]
  },
  {
   "cell_type": "code",
   "execution_count": 25,
   "metadata": {},
   "outputs": [
    {
     "data": {
      "text/plain": [
       "mcomplex([-4.16146837e-01,-9.09297427e-31,-9.09297427e-31, 4.16146837e-61])"
      ]
     },
     "execution_count": 25,
     "metadata": {},
     "output_type": "execute_result"
    }
   ],
   "source": [
    "cos(a)"
   ]
  },
  {
   "cell_type": "markdown",
   "metadata": {},
   "source": [
    "### 4.5 Conjugation with respect to an imaginary direction"
   ]
  },
  {
   "cell_type": "code",
   "execution_count": 26,
   "metadata": {},
   "outputs": [
    {
     "name": "stdout",
     "output_type": "stream",
     "text": [
      "2 + 1e-30*im(1) + 1e-30*im(2) + 0*im([1, 2])\n"
     ]
    }
   ],
   "source": [
    "print(a)"
   ]
  },
  {
   "cell_type": "code",
   "execution_count": 27,
   "metadata": {},
   "outputs": [
    {
     "name": "stdout",
     "output_type": "stream",
     "text": [
      "2 - 1e-30*im(1) + 1e-30*im(2) - 0*im([1, 2])\n"
     ]
    }
   ],
   "source": [
    "print(a.conjugate(1))"
   ]
  },
  {
   "cell_type": "code",
   "execution_count": 28,
   "metadata": {},
   "outputs": [
    {
     "name": "stdout",
     "output_type": "stream",
     "text": [
      "2 + 1e-30*im(1) - 1e-30*im(2) - 0*im([1, 2])\n"
     ]
    }
   ],
   "source": [
    "print(a.conjugate(2))"
   ]
  },
  {
   "cell_type": "code",
   "execution_count": null,
   "metadata": {},
   "outputs": [],
   "source": []
  }
 ],
 "metadata": {
  "kernelspec": {
   "display_name": "Python 3",
   "language": "python",
   "name": "python3"
  },
  "language_info": {
   "codemirror_mode": {
    "name": "ipython",
    "version": 3
   },
   "file_extension": ".py",
   "mimetype": "text/x-python",
   "name": "python",
   "nbconvert_exporter": "python",
   "pygments_lexer": "ipython3",
   "version": "3.8.5"
  }
 },
 "nbformat": 4,
 "nbformat_minor": 1
}
