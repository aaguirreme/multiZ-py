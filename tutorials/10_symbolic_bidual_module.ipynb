{
 "cells": [
  {
   "cell_type": "markdown",
   "metadata": {},
   "source": [
    "# How to use multiZ"
   ]
  },
  {
   "cell_type": "code",
   "execution_count": 1,
   "metadata": {},
   "outputs": [],
   "source": [
    "%reset -f"
   ]
  },
  {
   "cell_type": "code",
   "execution_count": 2,
   "metadata": {},
   "outputs": [],
   "source": [
    "import sys\n",
    "sys.path.append('../')"
   ]
  },
  {
   "cell_type": "markdown",
   "metadata": {},
   "source": [
    "## 10. Symbolic bidual module"
   ]
  },
  {
   "cell_type": "markdown",
   "metadata": {},
   "source": [
    "### 10.1 Defining variables"
   ]
  },
  {
   "cell_type": "markdown",
   "metadata": {},
   "source": [
    "The symbolic bidual module `symbidual` is based on the SymPy, a Python library for symbolic mathematics. To use the `symbidual`, you also need to import `sympy`."
   ]
  },
  {
   "cell_type": "code",
   "execution_count": 3,
   "metadata": {},
   "outputs": [],
   "source": [
    "import sympy as sym\n",
    "from multiZ.symbidual import *"
   ]
  },
  {
   "cell_type": "markdown",
   "metadata": {},
   "source": [
    "Define the symbolic real-valued variables using sympy"
   ]
  },
  {
   "cell_type": "code",
   "execution_count": 4,
   "metadata": {},
   "outputs": [],
   "source": [
    "a, b, c, d, e, f, g, h, r, n = sym.symbols('a b c d e f g h r n', real=True)"
   ]
  },
  {
   "cell_type": "markdown",
   "metadata": {},
   "source": [
    "Then you can use the symbolic variables to create dual numbers using the constructor of the class `sdual`."
   ]
  },
  {
   "cell_type": "code",
   "execution_count": 5,
   "metadata": {},
   "outputs": [],
   "source": [
    "D1 = sbdual(a, b, c, d)\n",
    "D2 = sbdual(e, f, g, h)"
   ]
  },
  {
   "cell_type": "markdown",
   "metadata": {},
   "source": [
    "If you call previous variables, you will get an output similar to previous inputs."
   ]
  },
  {
   "cell_type": "code",
   "execution_count": 6,
   "metadata": {},
   "outputs": [
    {
     "output_type": "execute_result",
     "data": {
      "text/plain": [
       "sbdual(a, b, c, d)"
      ],
      "text/latex": "$\\displaystyle sbdual\\left(a, b, c, d\\right)$"
     },
     "metadata": {},
     "execution_count": 6
    }
   ],
   "source": [
    "D1"
   ]
  },
  {
   "cell_type": "code",
   "execution_count": 7,
   "metadata": {},
   "outputs": [
    {
     "output_type": "execute_result",
     "data": {
      "text/plain": [
       "sbdual(e, f, g, h)"
      ],
      "text/latex": "$\\displaystyle sbdual\\left(e, f, g, h\\right)$"
     },
     "metadata": {},
     "execution_count": 7
    }
   ],
   "source": [
    "D2"
   ]
  },
  {
   "cell_type": "markdown",
   "metadata": {},
   "source": [
    "### 9.2 Symbolic dual arithmetics"
   ]
  },
  {
   "cell_type": "markdown",
   "metadata": {},
   "source": [
    "The following operations use previously defined dual numbers `D1` and `D2`."
   ]
  },
  {
   "cell_type": "markdown",
   "metadata": {},
   "source": [
    "**Addition**"
   ]
  },
  {
   "cell_type": "code",
   "execution_count": 8,
   "metadata": {},
   "outputs": [
    {
     "output_type": "execute_result",
     "data": {
      "text/plain": [
       "sbdual(a + e, b + f, c + g, d + h)"
      ],
      "text/latex": "$\\displaystyle sbdual\\left(a + e, b + f, c + g, d + h\\right)$"
     },
     "metadata": {},
     "execution_count": 8
    }
   ],
   "source": [
    "D1 + D2"
   ]
  },
  {
   "cell_type": "markdown",
   "metadata": {},
   "source": [
    "**Addition of a dual and a real number**"
   ]
  },
  {
   "cell_type": "code",
   "execution_count": 9,
   "metadata": {},
   "outputs": [
    {
     "output_type": "execute_result",
     "data": {
      "text/plain": [
       "sbdual(a + r, b, c, d)"
      ],
      "text/latex": "$\\displaystyle sbdual\\left(a + r, b, c, d\\right)$"
     },
     "metadata": {},
     "execution_count": 9
    }
   ],
   "source": [
    "D1 + r"
   ]
  },
  {
   "cell_type": "code",
   "execution_count": 10,
   "metadata": {},
   "outputs": [
    {
     "output_type": "execute_result",
     "data": {
      "text/plain": [
       "sbdual(a + r, b, c, d)"
      ],
      "text/latex": "$\\displaystyle sbdual\\left(a + r, b, c, d\\right)$"
     },
     "metadata": {},
     "execution_count": 10
    }
   ],
   "source": [
    "r + D1"
   ]
  },
  {
   "cell_type": "markdown",
   "metadata": {},
   "source": [
    "**Subtraction**"
   ]
  },
  {
   "cell_type": "code",
   "execution_count": 11,
   "metadata": {},
   "outputs": [
    {
     "output_type": "execute_result",
     "data": {
      "text/plain": [
       "sbdual(a - e, b - f, c - g, d - h)"
      ],
      "text/latex": "$\\displaystyle sbdual\\left(a - e, b - f, c - g, d - h\\right)$"
     },
     "metadata": {},
     "execution_count": 11
    }
   ],
   "source": [
    "D1 - D2"
   ]
  },
  {
   "cell_type": "markdown",
   "metadata": {},
   "source": [
    "**Subtraction of a dual and a real number**"
   ]
  },
  {
   "cell_type": "code",
   "execution_count": 12,
   "metadata": {},
   "outputs": [
    {
     "output_type": "execute_result",
     "data": {
      "text/plain": [
       "sbdual(a - r, b, c, d)"
      ],
      "text/latex": "$\\displaystyle sbdual\\left(a - r, b, c, d\\right)$"
     },
     "metadata": {},
     "execution_count": 12
    }
   ],
   "source": [
    "D1 - r"
   ]
  },
  {
   "cell_type": "code",
   "execution_count": 13,
   "metadata": {},
   "outputs": [
    {
     "output_type": "execute_result",
     "data": {
      "text/plain": [
       "sbdual(-a + r, -b, -c, -d)"
      ],
      "text/latex": "$\\displaystyle sbdual\\left(- a + r, - b, - c, - d\\right)$"
     },
     "metadata": {},
     "execution_count": 13
    }
   ],
   "source": [
    "r - D1"
   ]
  },
  {
   "cell_type": "markdown",
   "metadata": {},
   "source": [
    "**Negation of a dual number**"
   ]
  },
  {
   "cell_type": "code",
   "execution_count": 14,
   "metadata": {},
   "outputs": [
    {
     "output_type": "execute_result",
     "data": {
      "text/plain": [
       "sbdual(-a, -b, -c, -d)"
      ],
      "text/latex": "$\\displaystyle sbdual\\left(- a, - b, - c, - d\\right)$"
     },
     "metadata": {},
     "execution_count": 14
    }
   ],
   "source": [
    "-D1"
   ]
  },
  {
   "cell_type": "markdown",
   "metadata": {},
   "source": [
    "**Multiplication**"
   ]
  },
  {
   "cell_type": "code",
   "execution_count": 15,
   "metadata": {},
   "outputs": [
    {
     "output_type": "execute_result",
     "data": {
      "text/plain": [
       "sbdual(a*e, a*f + b*e, a*g + c*e, a*h + b*g + c*f + d*e)"
      ],
      "text/latex": "$\\displaystyle sbdual\\left(a e, a f + b e, a g + c e, a h + b g + c f + d e\\right)$"
     },
     "metadata": {},
     "execution_count": 15
    }
   ],
   "source": [
    "D1*D2"
   ]
  },
  {
   "cell_type": "markdown",
   "metadata": {},
   "source": [
    "**Multiplication of a dual and a real number**"
   ]
  },
  {
   "cell_type": "code",
   "execution_count": 16,
   "metadata": {},
   "outputs": [
    {
     "output_type": "execute_result",
     "data": {
      "text/plain": [
       "sbdual(a*r, b*r, c*r, d*r)"
      ],
      "text/latex": "$\\displaystyle sbdual\\left(a r, b r, c r, d r\\right)$"
     },
     "metadata": {},
     "execution_count": 16
    }
   ],
   "source": [
    "D1*r"
   ]
  },
  {
   "cell_type": "code",
   "execution_count": 17,
   "metadata": {},
   "outputs": [
    {
     "output_type": "execute_result",
     "data": {
      "text/plain": [
       "sbdual(a*r, b*r, c*r, d*r)"
      ],
      "text/latex": "$\\displaystyle sbdual\\left(a r, b r, c r, d r\\right)$"
     },
     "metadata": {},
     "execution_count": 17
    }
   ],
   "source": [
    "r*D1"
   ]
  },
  {
   "cell_type": "markdown",
   "metadata": {},
   "source": [
    "**Division**"
   ]
  },
  {
   "cell_type": "code",
   "execution_count": 18,
   "metadata": {},
   "outputs": [
    {
     "output_type": "execute_result",
     "data": {
      "text/plain": [
       "sbdual(a/e, (-a*f + b*e)/e**2, (-a*g + c*e)/e**2, (-a*(e*h - 2*f*g) + d*e**2 - e*(b*g + c*f))/e**3)"
      ],
      "text/latex": "$\\displaystyle sbdual\\left(\\frac{a}{e}, \\frac{- a f + b e}{e^{2}}, \\frac{- a g + c e}{e^{2}}, \\frac{- a \\left(e h - 2 f g\\right) + d e^{2} - e \\left(b g + c f\\right)}{e^{3}}\\right)$"
     },
     "metadata": {},
     "execution_count": 18
    }
   ],
   "source": [
    "D1/D2"
   ]
  },
  {
   "cell_type": "markdown",
   "metadata": {},
   "source": [
    "**Dual to a real power**"
   ]
  },
  {
   "cell_type": "code",
   "execution_count": 19,
   "metadata": {},
   "outputs": [
    {
     "output_type": "execute_result",
     "data": {
      "text/plain": [
       "sbdual(a**n, a**(n - 1)*b*n, a**(n - 1)*c*n, n*(a**(n - 2)*b*c*(n - 1) + a**(n - 1)*d))"
      ],
      "text/latex": "$\\displaystyle sbdual\\left(a^{n}, a^{n - 1} b n, a^{n - 1} c n, n \\left(a^{n - 2} b c \\left(n - 1\\right) + a^{n - 1} d\\right)\\right)$"
     },
     "metadata": {},
     "execution_count": 19
    }
   ],
   "source": [
    "D1**n"
   ]
  },
  {
   "cell_type": "markdown",
   "metadata": {},
   "source": [
    "**Reciprocal of dual number**"
   ]
  },
  {
   "cell_type": "code",
   "execution_count": 20,
   "metadata": {},
   "outputs": [
    {
     "output_type": "execute_result",
     "data": {
      "text/plain": [
       "sbdual(1/a, -b/a**2, -c/a**2, (-a*d + 2*b*c)/a**3)"
      ],
      "text/latex": "$\\displaystyle sbdual\\left(\\frac{1}{a}, - \\frac{b}{a^{2}}, - \\frac{c}{a^{2}}, \\frac{- a d + 2 b c}{a^{3}}\\right)$"
     },
     "metadata": {},
     "execution_count": 20
    }
   ],
   "source": [
    "1/D1"
   ]
  },
  {
   "cell_type": "markdown",
   "metadata": {},
   "source": [
    "## 9.3 Other functions"
   ]
  },
  {
   "cell_type": "markdown",
   "metadata": {},
   "source": [
    "**Dual raised to a dual power**"
   ]
  },
  {
   "cell_type": "code",
   "execution_count": 21,
   "metadata": {},
   "outputs": [],
   "source": [
    "#D1**D2"
   ]
  },
  {
   "cell_type": "markdown",
   "metadata": {},
   "source": [
    "**Real raised to a dual power**"
   ]
  },
  {
   "cell_type": "code",
   "execution_count": 22,
   "metadata": {},
   "outputs": [
    {
     "output_type": "execute_result",
     "data": {
      "text/plain": [
       "sbdual(exp(e*log(a)), f*exp(e*log(a))*log(a), g*exp(e*log(a))*log(a), (f*g*log(a) + h)*exp(e*log(a))*log(a))"
      ],
      "text/latex": "$\\displaystyle sbdual\\left(e^{e \\log{\\left(a \\right)}}, f e^{e \\log{\\left(a \\right)}} \\log{\\left(a \\right)}, g e^{e \\log{\\left(a \\right)}} \\log{\\left(a \\right)}, \\left(f g \\log{\\left(a \\right)} + h\\right) e^{e \\log{\\left(a \\right)}} \\log{\\left(a \\right)}\\right)$"
     },
     "metadata": {},
     "execution_count": 22
    }
   ],
   "source": [
    "a**D2"
   ]
  },
  {
   "cell_type": "markdown",
   "metadata": {},
   "source": [
    "### 9.3 Creation of symbolic dual arrays"
   ]
  },
  {
   "cell_type": "markdown",
   "metadata": {},
   "source": [
    "The symbolic dual module doesn't have its own array variable type. Instead, it uses SymPy matrices."
   ]
  },
  {
   "cell_type": "markdown",
   "metadata": {},
   "source": [
    "You can define a matrix by using Sympy's Matrix constructor."
   ]
  },
  {
   "cell_type": "code",
   "execution_count": 23,
   "metadata": {},
   "outputs": [],
   "source": [
    "u = sym.Matrix([sbdual(1,2,3,4),  # Vector made of bidual numbers.\n",
    "                sbdual(5,6,7,8)])"
   ]
  },
  {
   "cell_type": "code",
   "execution_count": 24,
   "metadata": {
    "scrolled": true
   },
   "outputs": [
    {
     "output_type": "execute_result",
     "data": {
      "text/plain": [
       "Matrix([\n",
       "[sbdual(1, 2, 3, 4)],\n",
       "[sbdual(5, 6, 7, 8)]])"
      ],
      "text/latex": "$\\displaystyle \\left[\\begin{matrix}sbdual\\left(1, 2, 3, 4\\right)\\\\sbdual\\left(5, 6, 7, 8\\right)\\end{matrix}\\right]$"
     },
     "metadata": {},
     "execution_count": 24
    }
   ],
   "source": [
    "u"
   ]
  },
  {
   "cell_type": "code",
   "execution_count": 25,
   "metadata": {},
   "outputs": [
    {
     "output_type": "error",
     "ename": "ValueError",
     "evalue": "expecting list of lists",
     "traceback": [
      "\u001b[0;31m---------------------------------------------------------------------------\u001b[0m",
      "\u001b[0;31mValueError\u001b[0m                                Traceback (most recent call last)",
      "\u001b[0;32m<ipython-input-25-676bd32f8093>\u001b[0m in \u001b[0;36m<module>\u001b[0;34m\u001b[0m\n\u001b[1;32m      1\u001b[0m M = sym.Matrix([[sbdual(1,2,3,4),    sbdual(5,6,7,8)],      # Matrix made of bidual numbers.\n\u001b[1;32m      2\u001b[0m                 [sbdual(9,10,11,12), sbdual(13,14,15,16)]])\n\u001b[0;32m----> 3\u001b[0;31m N = sym.Matrix([[sbdual(1,2,3,4),    sbdual(5,6,7,8)],      # Matrix made of bidual numbers.\n\u001b[0m\u001b[1;32m      4\u001b[0m                 \u001b[0;34m[\u001b[0m\u001b[0msbdual\u001b[0m\u001b[0;34m(\u001b[0m\u001b[0;36m9\u001b[0m\u001b[0;34m,\u001b[0m\u001b[0;36m10\u001b[0m\u001b[0;34m,\u001b[0m\u001b[0;36m11\u001b[0m\u001b[0;34m,\u001b[0m\u001b[0;36m12\u001b[0m\u001b[0;34m)\u001b[0m\u001b[0;34m,\u001b[0m \u001b[0msbdual\u001b[0m\u001b[0;34m(\u001b[0m\u001b[0;36m13\u001b[0m\u001b[0;34m,\u001b[0m\u001b[0;36m14\u001b[0m\u001b[0;34m,\u001b[0m\u001b[0;36m15\u001b[0m\u001b[0;34m,\u001b[0m\u001b[0;36m16\u001b[0m\u001b[0;34m)\u001b[0m\u001b[0;34m]\u001b[0m\u001b[0;34m,\u001b[0m\u001b[0;34m\u001b[0m\u001b[0;34m\u001b[0m\u001b[0m\n\u001b[1;32m      5\u001b[0m                 sbdual(9,10,11,12), sbdual(13,14,15,16)])\n",
      "\u001b[0;32m/usr/local/lib/python3.8/dist-packages/sympy/matrices/dense.py\u001b[0m in \u001b[0;36m__new__\u001b[0;34m(cls, *args, **kwargs)\u001b[0m\n\u001b[1;32m    293\u001b[0m \u001b[0;34m\u001b[0m\u001b[0m\n\u001b[1;32m    294\u001b[0m     \u001b[0;32mdef\u001b[0m \u001b[0m__new__\u001b[0m\u001b[0;34m(\u001b[0m\u001b[0mcls\u001b[0m\u001b[0;34m,\u001b[0m \u001b[0;34m*\u001b[0m\u001b[0margs\u001b[0m\u001b[0;34m,\u001b[0m \u001b[0;34m**\u001b[0m\u001b[0mkwargs\u001b[0m\u001b[0;34m)\u001b[0m\u001b[0;34m:\u001b[0m\u001b[0;34m\u001b[0m\u001b[0;34m\u001b[0m\u001b[0m\n\u001b[0;32m--> 295\u001b[0;31m         \u001b[0;32mreturn\u001b[0m \u001b[0mcls\u001b[0m\u001b[0;34m.\u001b[0m\u001b[0m_new\u001b[0m\u001b[0;34m(\u001b[0m\u001b[0;34m*\u001b[0m\u001b[0margs\u001b[0m\u001b[0;34m,\u001b[0m \u001b[0;34m**\u001b[0m\u001b[0mkwargs\u001b[0m\u001b[0;34m)\u001b[0m\u001b[0;34m\u001b[0m\u001b[0;34m\u001b[0m\u001b[0m\n\u001b[0m\u001b[1;32m    296\u001b[0m \u001b[0;34m\u001b[0m\u001b[0m\n\u001b[1;32m    297\u001b[0m     \u001b[0;34m@\u001b[0m\u001b[0mclassmethod\u001b[0m\u001b[0;34m\u001b[0m\u001b[0;34m\u001b[0m\u001b[0m\n",
      "\u001b[0;32m/usr/local/lib/python3.8/dist-packages/sympy/matrices/dense.py\u001b[0m in \u001b[0;36m_new\u001b[0;34m(cls, copy, *args, **kwargs)\u001b[0m\n\u001b[1;32m    304\u001b[0m             \u001b[0mrows\u001b[0m\u001b[0;34m,\u001b[0m \u001b[0mcols\u001b[0m\u001b[0;34m,\u001b[0m \u001b[0mflat_list\u001b[0m \u001b[0;34m=\u001b[0m \u001b[0margs\u001b[0m\u001b[0;34m\u001b[0m\u001b[0;34m\u001b[0m\u001b[0m\n\u001b[1;32m    305\u001b[0m         \u001b[0;32melse\u001b[0m\u001b[0;34m:\u001b[0m\u001b[0;34m\u001b[0m\u001b[0;34m\u001b[0m\u001b[0m\n\u001b[0;32m--> 306\u001b[0;31m             \u001b[0mrows\u001b[0m\u001b[0;34m,\u001b[0m \u001b[0mcols\u001b[0m\u001b[0;34m,\u001b[0m \u001b[0mflat_list\u001b[0m \u001b[0;34m=\u001b[0m \u001b[0mcls\u001b[0m\u001b[0;34m.\u001b[0m\u001b[0m_handle_creation_inputs\u001b[0m\u001b[0;34m(\u001b[0m\u001b[0;34m*\u001b[0m\u001b[0margs\u001b[0m\u001b[0;34m,\u001b[0m \u001b[0;34m**\u001b[0m\u001b[0mkwargs\u001b[0m\u001b[0;34m)\u001b[0m\u001b[0;34m\u001b[0m\u001b[0;34m\u001b[0m\u001b[0m\n\u001b[0m\u001b[1;32m    307\u001b[0m             \u001b[0mflat_list\u001b[0m \u001b[0;34m=\u001b[0m \u001b[0mlist\u001b[0m\u001b[0;34m(\u001b[0m\u001b[0mflat_list\u001b[0m\u001b[0;34m)\u001b[0m \u001b[0;31m# create a shallow copy\u001b[0m\u001b[0;34m\u001b[0m\u001b[0;34m\u001b[0m\u001b[0m\n\u001b[1;32m    308\u001b[0m         \u001b[0mself\u001b[0m \u001b[0;34m=\u001b[0m \u001b[0mobject\u001b[0m\u001b[0;34m.\u001b[0m\u001b[0m__new__\u001b[0m\u001b[0;34m(\u001b[0m\u001b[0mcls\u001b[0m\u001b[0;34m)\u001b[0m\u001b[0;34m\u001b[0m\u001b[0;34m\u001b[0m\u001b[0m\n",
      "\u001b[0;32m/usr/local/lib/python3.8/dist-packages/sympy/matrices/matrices.py\u001b[0m in \u001b[0;36m_handle_creation_inputs\u001b[0;34m(cls, *args, **kwargs)\u001b[0m\n\u001b[1;32m   1022\u001b[0m                         \u001b[0;32mif\u001b[0m \u001b[0;32mnot\u001b[0m \u001b[0mis_sequence\u001b[0m\u001b[0;34m(\u001b[0m\u001b[0mrow\u001b[0m\u001b[0;34m)\u001b[0m \u001b[0;32mand\u001b[0m\u001b[0;31m \u001b[0m\u001b[0;31m\\\u001b[0m\u001b[0;34m\u001b[0m\u001b[0;34m\u001b[0m\u001b[0m\n\u001b[1;32m   1023\u001b[0m                                 \u001b[0;32mnot\u001b[0m \u001b[0mgetattr\u001b[0m\u001b[0;34m(\u001b[0m\u001b[0mrow\u001b[0m\u001b[0;34m,\u001b[0m \u001b[0;34m'is_Matrix'\u001b[0m\u001b[0;34m,\u001b[0m \u001b[0;32mFalse\u001b[0m\u001b[0;34m)\u001b[0m\u001b[0;34m:\u001b[0m\u001b[0;34m\u001b[0m\u001b[0;34m\u001b[0m\u001b[0m\n\u001b[0;32m-> 1024\u001b[0;31m                             \u001b[0;32mraise\u001b[0m \u001b[0mValueError\u001b[0m\u001b[0;34m(\u001b[0m\u001b[0;34m'expecting list of lists'\u001b[0m\u001b[0;34m)\u001b[0m\u001b[0;34m\u001b[0m\u001b[0;34m\u001b[0m\u001b[0m\n\u001b[0m\u001b[1;32m   1025\u001b[0m \u001b[0;34m\u001b[0m\u001b[0m\n\u001b[1;32m   1026\u001b[0m                         \u001b[0;32mif\u001b[0m \u001b[0mhasattr\u001b[0m\u001b[0;34m(\u001b[0m\u001b[0mrow\u001b[0m\u001b[0;34m,\u001b[0m \u001b[0;34m'__array__'\u001b[0m\u001b[0;34m)\u001b[0m\u001b[0;34m:\u001b[0m\u001b[0;34m\u001b[0m\u001b[0;34m\u001b[0m\u001b[0m\n",
      "\u001b[0;31mValueError\u001b[0m: expecting list of lists"
     ]
    }
   ],
   "source": [
    "M = sym.Matrix([[sbdual(1,2,3,4),    sbdual(5,6,7,8),sbdual(1,2,3,4)],      # Matrix made of bidual numbers.\n",
    "                [sbdual(9,10,11,12), sbdual(13,14,15,16),sbdual(1,2,3,4)]])\n",
    "N = sym.Matrix([[sbdual(1,2,3,4),    sbdual(5,6,7,8)],      # Matrix made of bidual numbers.\n",
    "                [sbdual(9,10,11,12), sbdual(13,14,15,16)],\n",
    "                sbdual(9,10,11,12), sbdual(13,14,15,16)])\n",
    "print(M @ N)"
   ]
  },
  {
   "cell_type": "code",
   "execution_count": 26,
   "metadata": {},
   "outputs": [
    {
     "data": {
      "text/latex": [
       "$\\displaystyle \\left[\\begin{matrix}sbdual\\left(1, 2, 3, 4\\right) & sbdual\\left(5, 6, 7, 8\\right)\\\\sbdual\\left(9, 10, 11, 12\\right) & sbdual\\left(13, 14, 15, 16\\right)\\end{matrix}\\right]$"
      ],
      "text/plain": [
       "Matrix([\n",
       "[   sbdual(1, 2, 3, 4),     sbdual(5, 6, 7, 8)],\n",
       "[sbdual(9, 10, 11, 12), sbdual(13, 14, 15, 16)]])"
      ]
     },
     "execution_count": 26,
     "metadata": {},
     "output_type": "execute_result"
    }
   ],
   "source": [
    "M"
   ]
  },
  {
   "cell_type": "markdown",
   "metadata": {},
   "source": [
    "Also, you can define the values of a matrix one by one using the setter syntax."
   ]
  },
  {
   "cell_type": "code",
   "execution_count": 27,
   "metadata": {},
   "outputs": [],
   "source": [
    "N = sym.zeros(2,2)\n",
    "N[0,0] = sbdual(a,b,c,d)\n",
    "N[0,1] = sbdual(c,d,e,f)\n",
    "N[1,0] = sbdual(c,d,e,f)\n",
    "N[1,1] = sbdual(a,b,c,d)"
   ]
  },
  {
   "cell_type": "code",
   "execution_count": 28,
   "metadata": {
    "scrolled": true
   },
   "outputs": [
    {
     "data": {
      "text/latex": [
       "$\\displaystyle \\left[\\begin{matrix}sbdual\\left(a, b, c, d\\right) & sbdual\\left(c, d, e, f\\right)\\\\sbdual\\left(c, d, e, f\\right) & sbdual\\left(a, b, c, d\\right)\\end{matrix}\\right]$"
      ],
      "text/plain": [
       "Matrix([\n",
       "[sbdual(a, b, c, d), sbdual(c, d, e, f)],\n",
       "[sbdual(c, d, e, f), sbdual(a, b, c, d)]])"
      ]
     },
     "execution_count": 28,
     "metadata": {},
     "output_type": "execute_result"
    }
   ],
   "source": [
    "N"
   ]
  },
  {
   "cell_type": "markdown",
   "metadata": {},
   "source": [
    "### 9.4 Getting the real and the imaginary part"
   ]
  },
  {
   "cell_type": "markdown",
   "metadata": {},
   "source": [
    "To extract the real and the imaginary part, use SymPy functions `re` and `im`, respectively."
   ]
  },
  {
   "cell_type": "code",
   "execution_count": 29,
   "metadata": {},
   "outputs": [
    {
     "data": {
      "text/latex": [
       "$\\displaystyle \\left[\\begin{matrix}a & c\\\\c & a\\end{matrix}\\right]$"
      ],
      "text/plain": [
       "Matrix([\n",
       "[a, c],\n",
       "[c, a]])"
      ]
     },
     "execution_count": 29,
     "metadata": {},
     "output_type": "execute_result"
    }
   ],
   "source": [
    "sym.re(N)"
   ]
  },
  {
   "cell_type": "code",
   "execution_count": 30,
   "metadata": {
    "scrolled": true
   },
   "outputs": [
    {
     "data": {
      "text/latex": [
       "$\\displaystyle \\left[\\begin{matrix}b & d\\\\d & b\\end{matrix}\\right]$"
      ],
      "text/plain": [
       "Matrix([\n",
       "[b, d],\n",
       "[d, b]])"
      ]
     },
     "execution_count": 30,
     "metadata": {},
     "output_type": "execute_result"
    }
   ],
   "source": [
    "sym.im(N)"
   ]
  },
  {
   "cell_type": "markdown",
   "metadata": {},
   "source": [
    "### 9.5 Mathematical operations"
   ]
  },
  {
   "cell_type": "markdown",
   "metadata": {},
   "source": [
    "Dot product"
   ]
  },
  {
   "cell_type": "code",
   "execution_count": 31,
   "metadata": {
    "scrolled": true
   },
   "outputs": [
    {
     "data": {
      "text/latex": [
       "$\\displaystyle \\left[\\begin{matrix}sbdual\\left(1, 4, 6, 20\\right) + sbdual\\left(25, 60, 70, 164\\right)\\end{matrix}\\right]$"
      ],
      "text/plain": [
       "Matrix([[sbdual(1, 4, 6, 20) + sbdual(25, 60, 70, 164)]])"
      ]
     },
     "execution_count": 31,
     "metadata": {},
     "output_type": "execute_result"
    }
   ],
   "source": [
    "u.T @ u"
   ]
  },
  {
   "cell_type": "markdown",
   "metadata": {},
   "source": [
    "Matrix-vector multiplication"
   ]
  },
  {
   "cell_type": "code",
   "execution_count": 32,
   "metadata": {},
   "outputs": [
    {
     "data": {
      "text/latex": [
       "$\\displaystyle \\left[\\begin{matrix}sbdual\\left(1, 4, 6, 20\\right) + sbdual\\left(25, 60, 70, 164\\right)\\\\sbdual\\left(9, 28, 38, 100\\right) + sbdual\\left(65, 148, 166, 372\\right)\\end{matrix}\\right]$"
      ],
      "text/plain": [
       "Matrix([\n",
       "[     sbdual(1, 4, 6, 20) + sbdual(25, 60, 70, 164)],\n",
       "[sbdual(9, 28, 38, 100) + sbdual(65, 148, 166, 372)]])"
      ]
     },
     "execution_count": 32,
     "metadata": {},
     "output_type": "execute_result"
    }
   ],
   "source": [
    "M @ u"
   ]
  },
  {
   "cell_type": "markdown",
   "metadata": {},
   "source": [
    "Matrix-matrix multiplication"
   ]
  },
  {
   "cell_type": "code",
   "execution_count": 33,
   "metadata": {},
   "outputs": [
    {
     "data": {
      "text/latex": [
       "$\\displaystyle \\left[\\begin{matrix}sbdual\\left(a, 2 a + b, 3 a + c, 4 a + 3 b + 2 c + d\\right) + sbdual\\left(5 c, 6 c + 5 d, 7 c + 5 e, 8 c + 7 d + 6 e + 5 f\\right) & sbdual\\left(5 a, 6 a + 5 b, 7 a + 5 c, 8 a + 7 b + 6 c + 5 d\\right) + sbdual\\left(c, 2 c + d, 3 c + e, 4 c + 3 d + 2 e + f\\right)\\\\sbdual\\left(9 a, 10 a + 9 b, 11 a + 9 c, 12 a + 11 b + 10 c + 9 d\\right) + sbdual\\left(13 c, 14 c + 13 d, 15 c + 13 e, 16 c + 15 d + 14 e + 13 f\\right) & sbdual\\left(13 a, 14 a + 13 b, 15 a + 13 c, 16 a + 15 b + 14 c + 13 d\\right) + sbdual\\left(9 c, 10 c + 9 d, 11 c + 9 e, 12 c + 11 d + 10 e + 9 f\\right)\\end{matrix}\\right]$"
      ],
      "text/plain": [
       "Matrix([\n",
       "[                      sbdual(a, 2*a + b, 3*a + c, 4*a + 3*b + 2*c + d) + sbdual(5*c, 6*c + 5*d, 7*c + 5*e, 8*c + 7*d + 6*e + 5*f),                       sbdual(5*a, 6*a + 5*b, 7*a + 5*c, 8*a + 7*b + 6*c + 5*d) + sbdual(c, 2*c + d, 3*c + e, 4*c + 3*d + 2*e + f)],\n",
       "[sbdual(9*a, 10*a + 9*b, 11*a + 9*c, 12*a + 11*b + 10*c + 9*d) + sbdual(13*c, 14*c + 13*d, 15*c + 13*e, 16*c + 15*d + 14*e + 13*f), sbdual(13*a, 14*a + 13*b, 15*a + 13*c, 16*a + 15*b + 14*c + 13*d) + sbdual(9*c, 10*c + 9*d, 11*c + 9*e, 12*c + 11*d + 10*e + 9*f)]])"
      ]
     },
     "execution_count": 33,
     "metadata": {},
     "output_type": "execute_result"
    }
   ],
   "source": [
    "M @ N"
   ]
  },
  {
   "cell_type": "code",
   "execution_count": null,
   "metadata": {},
   "outputs": [],
   "source": []
  }
 ],
 "metadata": {
  "kernelspec": {
   "display_name": "Python 3",
   "language": "python",
   "name": "python3"
  },
  "language_info": {
   "codemirror_mode": {
    "name": "ipython",
    "version": 3
   },
   "file_extension": ".py",
   "mimetype": "text/x-python",
   "name": "python",
   "nbconvert_exporter": "python",
   "pygments_lexer": "ipython3",
   "version": "3.8.5"
  }
 },
 "nbformat": 4,
 "nbformat_minor": 4
}